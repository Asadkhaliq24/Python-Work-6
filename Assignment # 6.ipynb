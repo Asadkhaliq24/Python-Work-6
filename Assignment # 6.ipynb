{
 "cells": [
  {
   "cell_type": "markdown",
   "id": "f51173aa-ecde-45ac-b983-afa6fb181184",
   "metadata": {},
   "source": [
    "**1. Write a Python program to construct the following pattern, using a nested for loop.**"
   ]
  },
  {
   "cell_type": "code",
   "execution_count": 7,
   "id": "8770855c-8dde-4494-acbb-d9e79ce1f454",
   "metadata": {},
   "outputs": [
    {
     "name": "stdout",
     "output_type": "stream",
     "text": [
      "\n",
      "* \n",
      "* * \n",
      "* * * \n",
      "* * * * \n",
      "* * * * * \n",
      "* * * * \n",
      "* * * \n",
      "* * \n",
      "* \n"
     ]
    }
   ],
   "source": [
    "# Set the value of 'n' to 5 (this will determine the number of lines in the pattern)\n",
    "n = 5\n",
    "\n",
    "# Iterate through the range of numbers from 0 to 'n' (exclusive)\n",
    "for i in range(n):\n",
    "    # Iterate through the range of numbers from 0 to 'i' (exclusive) for each 'i' in the outer loop\n",
    "    for j in range(i):\n",
    "        # Print '*' followed by a space without a new line (end=\"\" ensures printing in the same line)\n",
    "        print('* ', end=\"\")\n",
    "    # Move to the next line after printing '*' characters for the current 'i'\n",
    "    print('')\n",
    "\n",
    "# Iterate through the range of numbers from 'n' down to 1 (inclusive), decreasing by 1 in each iteration\n",
    "for i in range(n, 0, -1):\n",
    "    # Iterate through the range of numbers from 0 to 'i' (exclusive) for each 'i' in the outer loop\n",
    "    for j in range(i):\n",
    "        # Print '*' followed by a space without a new line (end=\"\" ensures printing in the same line)\n",
    "        print('* ', end=\"\")\n",
    "    # Move to the next line after printing '*' characters for the current 'i'\n",
    "    print('')"
   ]
  },
  {
   "cell_type": "markdown",
   "id": "b7335b1f-9b03-4093-8b8c-71fddd0439c9",
   "metadata": {},
   "source": [
    "**2. Write a Python program to check whether an alphabet which is given by user\r\n",
    "in input prompt is a vowel or consonant**."
   ]
  },
  {
   "cell_type": "code",
   "execution_count": 8,
   "id": "88e7b11d-584c-4716-b8d6-dac134f1a576",
   "metadata": {},
   "outputs": [
    {
     "name": "stdin",
     "output_type": "stream",
     "text": [
      "Enter a character:  A\n"
     ]
    },
    {
     "name": "stdout",
     "output_type": "stream",
     "text": [
      "The character 'A' is a vowel!\n"
     ]
    }
   ],
   "source": [
    "# Python program to check whether the given character  \n",
    "# is a vowel or consonant  \n",
    "  \n",
    "# Get an input character from the user  \n",
    "character = input(\"Enter a character: \")  \n",
    "  \n",
    "# Creating a list of vowels  \n",
    "vowels = ['a', 'e', 'i', 'o', 'u', 'A', 'E', 'I', 'O', 'U']  \n",
    "  \n",
    "# Check if the character is a vowel or not  \n",
    "if character in vowels:  \n",
    "    print(f\"The character '{character}' is a vowel!\")  \n",
    "else:  \n",
    "    print(f\"The character '{character}' is a consonant!\")"
   ]
  },
  {
   "cell_type": "markdown",
   "id": "c7f07e04-e323-4c9f-b15e-1b6eec7bb9a5",
   "metadata": {},
   "source": [
    "\n",
    "**3. Write a Python program to create the multiplication table (from 1 to 10)\r\n",
    "of a number and the number will be given by user in input prompt**.\n",
    "\r\n",
    "Expected Output:\r\n",
    "\r\n",
    "Input a number: 6                                                      \r\n",
    "6 x 1 = 6                                                              \r\n",
    "6 x 2 = 12                                                              \r\n",
    "6 x 3 = 18                                                              \r\n",
    "6 x 4 = 24                                                              \r\n",
    "6 x 5 = 30                                                              \r\n",
    "6 x 6 = 36                                                              \r\n",
    "6 x 7 = 42                                                              \r\n",
    "6 x 8 = 48                                                              \r\n",
    "6 x 9 = 54                                                              \r\n",
    "6 x 10 = 60"
   ]
  },
  {
   "cell_type": "code",
   "execution_count": 10,
   "id": "5f68815e-f4af-4b96-8440-07250fd52180",
   "metadata": {},
   "outputs": [
    {
     "name": "stdin",
     "output_type": "stream",
     "text": [
      "Input a number:  6\n"
     ]
    },
    {
     "name": "stdout",
     "output_type": "stream",
     "text": [
      "6 x 1 = 6\n",
      "6 x 2 = 12\n",
      "6 x 3 = 18\n",
      "6 x 4 = 24\n",
      "6 x 5 = 30\n",
      "6 x 6 = 36\n",
      "6 x 7 = 42\n",
      "6 x 8 = 48\n",
      "6 x 9 = 54\n",
      "6 x 10 = 60\n"
     ]
    }
   ],
   "source": [
    "# Prompt the user to input a number and convert it to an integer, assigning it to the variable 'n'\n",
    "n = int(input(\"Input a number: \"))\n",
    "\n",
    "# Use a for loop to iterate 10 times, starting from 1 up to 10 (excluding 11)\n",
    "for i in range(1, 11):\n",
    "    # Print the multiplication table for the entered number 'n' by multiplying it with each iteration 'i'\n",
    "    print(n, 'x', i, '=', n * i)"
   ]
  },
  {
   "cell_type": "markdown",
   "id": "0766fb68-99a1-45c7-8942-0a38d7a88141",
   "metadata": {},
   "source": [
    "**4. Write a Python program to guess a number between 1 and 9.\r\n",
    "Note : User is prompted to enter a guess. If the user guesses wrong then\r\n",
    "the prompt appears again until the guess is correct, on successful guess,\r\n",
    "user will get a \"Well guessed!\" message, and the program will ex**it."
   ]
  },
  {
   "cell_type": "code",
   "execution_count": 11,
   "id": "40b2007d-5c6a-4fb8-801e-c95a25f5328f",
   "metadata": {},
   "outputs": [
    {
     "name": "stdin",
     "output_type": "stream",
     "text": [
      "Guess a number between 1 and 10 until you get it right :  1\n"
     ]
    },
    {
     "name": "stdout",
     "output_type": "stream",
     "text": [
      "Well guessed!\n"
     ]
    }
   ],
   "source": [
    "# Import the 'random' module to generate random numbers\n",
    "import random\n",
    "\n",
    "# Generate a random number between 1 and 10 (inclusive) as the target number\n",
    "target_num, guess_num = random.randint(1, 10), 0\n",
    "\n",
    "# Start a loop that continues until the guessed number matches the target number\n",
    "while target_num != guess_num:\n",
    "    # Prompt the user to input a number between 1 and 10 and convert it to an integer\n",
    "    guess_num = int(input('Guess a number between 1 and 10 until you get it right : '))\n",
    "\n",
    "# Print a message indicating successful guessing once the correct number is guessed\n",
    "print('Well guessed!')"
   ]
  },
  {
   "cell_type": "markdown",
   "id": "54223f71-24a5-487c-aac6-1e6417b739f3",
   "metadata": {},
   "source": [
    "**5. Write a  Python program to filter the height and width of students, which are stored in a dictionary.**\n",
    "\r\n",
    "Original Dictionary:\r\n",
    "{'Cierra Vega': (6.2, 70), 'Alden Cantrell': (5.9, 65), 'Kierra Gentry': (6.0, 68), 'Pierre Cox': (5.8, 66)}\r\n",
    "Height > 6ft and Weight> 70kg:\r\n",
    "{'Cierra Vega': (6.2, 70)}"
   ]
  },
  {
   "cell_type": "code",
   "execution_count": 12,
   "id": "c014d65a-3434-49f4-88a9-4ab67bb3d830",
   "metadata": {},
   "outputs": [
    {
     "name": "stdout",
     "output_type": "stream",
     "text": [
      "Original Dictionary:\n",
      "{'Cierra Vega': (6.2, 70), 'Alden Cantrell': (5.9, 65), 'Kierra Gentry': (6.0, 68), 'Pierre Cox': (5.8, 66)}\n",
      "\n",
      "Height > 6ft and Weight > 70kg:\n",
      "{'Cierra Vega': (6.2, 70)}\n"
     ]
    }
   ],
   "source": [
    "# Define a function 'filter_data' that filters students based on height and weight criteria.\n",
    "def filter_data(students):\n",
    "    # Use a dictionary comprehension to create a new dictionary 'result'.\n",
    "    # Include key-value pairs from 'students' where the height (s[0]) is greater than or equal to 6.0\n",
    "    # and the weight (s[1]) is greater than or equal to 70.\n",
    "    result = {k: s for k, s in students.items() if s[0] >= 6.0 and s[1] >= 70}\n",
    "    return result\n",
    "\t\n",
    "# Create a dictionary 'students' with student names as keys and tuples of height and weight as values.\n",
    "students = {\n",
    "    'Cierra Vega': (6.2, 70),\n",
    "    'Alden Cantrell': (5.9, 65),\n",
    "    'Kierra Gentry': (6.0, 68),\n",
    "    'Pierre Cox': (5.8, 66)\n",
    "}\n",
    "\n",
    "# Print a message indicating the start of the code section and the original dictionary.\n",
    "print(\"Original Dictionary:\")\n",
    "print(students)\n",
    "\n",
    "# Print a message indicating the intention to filter students based on height and weight criteria.\n",
    "print(\"\\nHeight > 6ft and Weight > 70kg:\")\n",
    "\n",
    "# Call the 'filter_data' function to filter students based on the specified criteria.\n",
    "# Print the resulting filtered dictionary.\n",
    "print(filter_data(students))"
   ]
  },
  {
   "cell_type": "markdown",
   "id": "f23a74ce-e21a-4a95-b733-a44915612811",
   "metadata": {},
   "source": [
    "**6. A  Python dictionary contains List as a value. Write a Python program to clear the list values in the said dictionary.**\r\n",
    "\n",
    "Original Dictionary:\r\n",
    "{'C1': [10, 20, 30], 'C2': [20, 30, 40], 'C3': [12, 34]}\r\n",
    "Clear the list values in the said dictionary:\r\n",
    "{'C1': [], 'C2': [], 'C3': []}"
   ]
  },
  {
   "cell_type": "code",
   "execution_count": 13,
   "id": "a747b9c7-1d15-476e-aa75-7a72258e09c5",
   "metadata": {},
   "outputs": [
    {
     "name": "stdout",
     "output_type": "stream",
     "text": [
      "\n",
      "Original Dictionary:\n",
      "{'C1': [10, 20, 30], 'C2': [20, 30, 40], 'C3': [12, 34]}\n",
      "\n",
      "Clear the list values in the said dictionary:\n",
      "{'C1': [], 'C2': [], 'C3': []}\n"
     ]
    }
   ],
   "source": [
    "# Define a function 'test' that clears the list values within a dictionary.\n",
    "def test(dictionary):\n",
    "    # Iterate through the keys in the 'dictionary' and use the 'clear' method to empty the lists.\n",
    "    for key in dictionary:\n",
    "        dictionary[key].clear()\n",
    "    return dictionary\n",
    "\n",
    "# Create a dictionary 'dictionary' with keys as 'C1', 'C2', and 'C3', and lists as values.\n",
    "dictionary = { \n",
    "    'C1': [10, 20, 30], \n",
    "    'C2': [20, 30, 40],\n",
    "    'C3': [12, 34]\n",
    "}\n",
    "\n",
    "# Print a message indicating the start of the code section and the original dictionary.\n",
    "print(\"\\nOriginal Dictionary:\")\n",
    "print(dictionary)\n",
    "\n",
    "# Print a message indicating the intention to clear the list values in the dictionary.\n",
    "print(\"\\nClear the list values in the said dictionary:\")\n",
    "\n",
    "# Call the 'test' function to clear the list values within the dictionary and print the resulting dictionary.\n",
    "print(test(dictionary))"
   ]
  },
  {
   "cell_type": "markdown",
   "id": "8bd2aef1-ca3c-4290-914e-4f9b124632a1",
   "metadata": {},
   "source": [
    "**7. Rivers: Make a dictionary containing three major rivers and the country\r\n",
    "each river runs through**\n",
    "\n",
    " One key-value pair might be 'nile': 'egypt'.\r\n",
    "• Use a loop to print a sentence about each river, such as The Nile runs\r\n",
    "through Egypt.\r\n",
    "• Use a loop to print the name of each river included in the dictionary.\r\n",
    "• Use a loop to print the name of each country included in the dictionary."
   ]
  },
  {
   "cell_type": "code",
   "execution_count": 14,
   "id": "e5c45305-7fdd-4b8f-b963-29f84dbb01e2",
   "metadata": {},
   "outputs": [
    {
     "name": "stdout",
     "output_type": "stream",
     "text": [
      "The Mississippi river runs through The United States.\n",
      "The Nile river runs through Egypt.\n",
      "The Amazon river runs through Brazil.\n",
      "\n",
      "\n",
      "mississippi\n",
      "nile\n",
      "amazon\n",
      "\n",
      "\n",
      "the united states\n",
      "egypt\n",
      "brazil\n"
     ]
    }
   ],
   "source": [
    "rivers = {\n",
    "\t'mississippi': 'the united states',\n",
    "\t'nile': 'egypt',\n",
    "\t'amazon': 'brazil',\n",
    "}\n",
    "\n",
    "for river, country in rivers.items():\n",
    "\tprint(\"The \" + river.title() + \" river runs through \" + country.title() + \".\")\n",
    "print('\\n')\n",
    "for river in rivers.keys():\n",
    "\tprint(river)\n",
    "print('\\n')\n",
    "for country in rivers.values():\n",
    "\tprint(country)"
   ]
  },
  {
   "cell_type": "markdown",
   "id": "926130cb-bb04-4353-846c-d868714a22e8",
   "metadata": {},
   "source": [
    "**8. Movie Tickets: A movie theater charges different ticket prices depending on\n",
    "a person’s age.** If a person is under the age of 3, the ticket is free; if they are\n",
    "between 3 and 12, the ticket is $10; and if they are over age 12, the ticket is\n",
    "$15. Write a loop in which you ask users their age, and then tell them the cost\n",
    "of their movie ticket."
   ]
  },
  {
   "cell_type": "code",
   "execution_count": null,
   "id": "348110d4-4ced-4ceb-a5ba-7d6faac0d49d",
   "metadata": {},
   "outputs": [
    {
     "name": "stdin",
     "output_type": "stream",
     "text": [
      "How old are you?\n",
      "Enter 'quit' when you are finished.  2\n"
     ]
    },
    {
     "name": "stdout",
     "output_type": "stream",
     "text": [
      "  You get in free!\n"
     ]
    },
    {
     "name": "stdin",
     "output_type": "stream",
     "text": [
      "How old are you?\n",
      "Enter 'quit' when you are finished.  25\n"
     ]
    },
    {
     "name": "stdout",
     "output_type": "stream",
     "text": [
      "  Your ticket is $15.\n"
     ]
    },
    {
     "name": "stdin",
     "output_type": "stream",
     "text": [
      "How old are you?\n",
      "Enter 'quit' when you are finished.  50\n"
     ]
    },
    {
     "name": "stdout",
     "output_type": "stream",
     "text": [
      "  Your ticket is $15.\n"
     ]
    },
    {
     "name": "stdin",
     "output_type": "stream",
     "text": [
      "How old are you?\n",
      "Enter 'quit' when you are finished.  10\n"
     ]
    },
    {
     "name": "stdout",
     "output_type": "stream",
     "text": [
      "  Your ticket is $10.\n"
     ]
    }
   ],
   "source": [
    "prompt = \"How old are you?\"\n",
    "prompt += \"\\nEnter 'quit' when you are finished. \"\n",
    "\n",
    "while True:\n",
    "    age = input(prompt)\n",
    "    if age == 'quit':\n",
    "        break\n",
    "    age = int(age)\n",
    "\n",
    "    if age < 3:\n",
    "        print(\"  You get in free!\")\n",
    "    elif age < 13:\n",
    "        print(\"  Your ticket is $10.\")\n",
    "    else:\n",
    "        print(\"  Your ticket is $15.\")"
   ]
  }
 ],
 "metadata": {
  "kernelspec": {
   "display_name": "Python 3 (ipykernel)",
   "language": "python",
   "name": "python3"
  },
  "language_info": {
   "codemirror_mode": {
    "name": "ipython",
    "version": 3
   },
   "file_extension": ".py",
   "mimetype": "text/x-python",
   "name": "python",
   "nbconvert_exporter": "python",
   "pygments_lexer": "ipython3",
   "version": "3.12.4"
  }
 },
 "nbformat": 4,
 "nbformat_minor": 5
}
